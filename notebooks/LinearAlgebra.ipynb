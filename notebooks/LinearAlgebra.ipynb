{
  "nbformat": 4,
  "nbformat_minor": 0,
  "metadata": {
    "colab": {
      "provenance": [],
      "authorship_tag": "ABX9TyPUAdELR4rCb7ikwURV/di7",
      "include_colab_link": true
    },
    "kernelspec": {
      "name": "python3",
      "display_name": "Python 3"
    },
    "language_info": {
      "name": "python"
    }
  },
  "cells": [
    {
      "cell_type": "markdown",
      "metadata": {
        "id": "view-in-github",
        "colab_type": "text"
      },
      "source": [
        "<a href=\"https://colab.research.google.com/github/pulkitmehra/learn-ai/blob/main/notebooks/LinearAlgebra.ipynb\" target=\"_parent\"><img src=\"https://colab.research.google.com/assets/colab-badge.svg\" alt=\"Open In Colab\"/></a>"
      ]
    },
    {
      "cell_type": "markdown",
      "source": [
        "# Linear Algebra guide"
      ],
      "metadata": {
        "id": "naf5qIkrS1vU"
      }
    },
    {
      "cell_type": "markdown",
      "source": [
        "## Scalars in Pytorch"
      ],
      "metadata": {
        "id": "tWSesqpuTJ5C"
      }
    },
    {
      "cell_type": "code",
      "source": [
        "import torch\n",
        "\n",
        "x_pt = torch.tensor(25, dtype=torch.float16)\n",
        "x_pt.shape"
      ],
      "metadata": {
        "id": "LenqkeQrS8jP",
        "outputId": "5e79799b-2288-41a4-f70c-366fd6bf4a2b",
        "colab": {
          "base_uri": "https://localhost:8080/"
        }
      },
      "execution_count": 17,
      "outputs": [
        {
          "output_type": "execute_result",
          "data": {
            "text/plain": [
              "torch.Size([])"
            ]
          },
          "metadata": {},
          "execution_count": 17
        }
      ]
    },
    {
      "cell_type": "markdown",
      "source": [
        "## Scalar in tensorflow"
      ],
      "metadata": {
        "id": "TBUi8B-KVpTI"
      }
    },
    {
      "cell_type": "code",
      "source": [
        "import tensorflow as tf"
      ],
      "metadata": {
        "id": "Rlok8h6PVxEL"
      },
      "execution_count": 18,
      "outputs": []
    },
    {
      "cell_type": "code",
      "source": [
        "x_tf = tf.Variable(25, dtype=tf.float16)"
      ],
      "metadata": {
        "id": "WPP57Zl1V8ld"
      },
      "execution_count": 19,
      "outputs": []
    },
    {
      "cell_type": "code",
      "source": [
        "x_tf.shape"
      ],
      "metadata": {
        "id": "Su9nksJEWE9o",
        "outputId": "7725336b-c806-4876-ab06-2acca2056998",
        "colab": {
          "base_uri": "https://localhost:8080/"
        }
      },
      "execution_count": 20,
      "outputs": [
        {
          "output_type": "execute_result",
          "data": {
            "text/plain": [
              "TensorShape([])"
            ]
          },
          "metadata": {},
          "execution_count": 20
        }
      ]
    },
    {
      "cell_type": "code",
      "source": [
        "y_tf = tf.Variable(3, dtype=tf.float16)"
      ],
      "metadata": {
        "id": "6ylR7raGWJtj"
      },
      "execution_count": 21,
      "outputs": []
    },
    {
      "cell_type": "code",
      "source": [
        "x_tf + y_tf"
      ],
      "metadata": {
        "id": "OtuQKkayWVRS",
        "outputId": "014adb11-5e0b-4f7f-e052-dee83e423b46",
        "colab": {
          "base_uri": "https://localhost:8080/"
        }
      },
      "execution_count": 22,
      "outputs": [
        {
          "output_type": "execute_result",
          "data": {
            "text/plain": [
              "<tf.Tensor: shape=(), dtype=float16, numpy=28.0>"
            ]
          },
          "metadata": {},
          "execution_count": 22
        }
      ]
    },
    {
      "cell_type": "code",
      "source": [
        "tf_sum = tf.add(x_tf, y_tf)\n",
        "tf_sum"
      ],
      "metadata": {
        "id": "qGMHaQa9WYyR",
        "outputId": "bae1cf50-a017-46f4-a978-c1d2e5eb15f2",
        "colab": {
          "base_uri": "https://localhost:8080/"
        }
      },
      "execution_count": 23,
      "outputs": [
        {
          "output_type": "execute_result",
          "data": {
            "text/plain": [
              "<tf.Tensor: shape=(), dtype=float16, numpy=28.0>"
            ]
          },
          "metadata": {},
          "execution_count": 23
        }
      ]
    },
    {
      "cell_type": "code",
      "source": [
        "tf_sum.numpy()"
      ],
      "metadata": {
        "id": "uN_ioel0Wtw8",
        "outputId": "bb3101ac-a1a5-451d-ecf3-8828688f68b8",
        "colab": {
          "base_uri": "https://localhost:8080/"
        }
      },
      "execution_count": 24,
      "outputs": [
        {
          "output_type": "execute_result",
          "data": {
            "text/plain": [
              "28.0"
            ]
          },
          "metadata": {},
          "execution_count": 24
        }
      ]
    },
    {
      "cell_type": "markdown",
      "source": [
        "## Vector and Vector Transpositions\n",
        "\n",
        "Its one dimensional arrayu of number. All elements arranged in order(like list). Individual element of vector is scalar itself\n",
        "\n",
        "[x1, x2] = [12 4] - represents a location on 2D line system\n",
        "\n",
        "3 length vector represents location in 3D space\n",
        "\n",
        "[x1, x2, x3] = [12 4 5]\n",
        "\n",
        "Vecotor Transpose [x1 x2 x3] = [x1]\n",
        "                               [x2]\n",
        "                               [x3]\n",
        "(row, column)\n"
      ],
      "metadata": {
        "id": "MAlMxhlfXMxI"
      }
    },
    {
      "cell_type": "code",
      "source": [
        "import numpy as np\n",
        "import tensorflow as tf\n",
        "import torch\n",
        "\n",
        "x = np.array([25, 2, 5])\n",
        "len(x)\n",
        "x.shape\n",
        "type(x)\n",
        "type(x[0])\n",
        "\n",
        "x_transpose = x.T\n",
        "type(x_transpose)\n",
        "\n",
        "print(x_transpose.shape)\n",
        " # It will be length 3 array, we need to create it in diff way\n",
        "\n",
        "y = np.array([[25, 2, 5]])\n",
        "y.shape\n",
        "\n",
        "y_t = y.T\n",
        "y_t.shape\n",
        "y_t\n",
        "\n",
        "## szero vector\n",
        "\n",
        "n_z = np.zeros(3)\n",
        "n_z\n",
        "\n",
        "## vector in pytorch and tensor\n",
        "ten_x = torch.tensor([25, 5, 4])\n",
        "ten_x\n",
        "\n",
        "tf_x = tf.Variable([25,3,4])\n",
        "tf_x\n"
      ],
      "metadata": {
        "id": "1wCKFTeE8YlW",
        "outputId": "fc3401fe-bbf9-47c1-c7e0-7f8c14920839",
        "colab": {
          "base_uri": "https://localhost:8080/"
        }
      },
      "execution_count": 38,
      "outputs": [
        {
          "output_type": "stream",
          "name": "stdout",
          "text": [
            "(3,)\n"
          ]
        },
        {
          "output_type": "execute_result",
          "data": {
            "text/plain": [
              "<tf.Variable 'Variable:0' shape=(3,) dtype=int32, numpy=array([25,  3,  4], dtype=int32)>"
            ]
          },
          "metadata": {},
          "execution_count": 38
        }
      ]
    },
    {
      "cell_type": "code",
      "source": [],
      "metadata": {
        "id": "cFs1zgDW-0OF"
      },
      "execution_count": null,
      "outputs": []
    }
  ]
}