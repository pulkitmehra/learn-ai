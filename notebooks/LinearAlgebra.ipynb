{
  "nbformat": 4,
  "nbformat_minor": 0,
  "metadata": {
    "colab": {
      "provenance": [],
      "authorship_tag": "ABX9TyNDmSy20Fi5aMvRbd6O4HmF",
      "include_colab_link": true
    },
    "kernelspec": {
      "name": "python3",
      "display_name": "Python 3"
    },
    "language_info": {
      "name": "python"
    }
  },
  "cells": [
    {
      "cell_type": "markdown",
      "metadata": {
        "id": "view-in-github",
        "colab_type": "text"
      },
      "source": [
        "<a href=\"https://colab.research.google.com/github/pulkitmehra/learn-ai/blob/main/notebooks/LinearAlgebra.ipynb\" target=\"_parent\"><img src=\"https://colab.research.google.com/assets/colab-badge.svg\" alt=\"Open In Colab\"/></a>"
      ]
    },
    {
      "cell_type": "markdown",
      "source": [
        "# Linear Algebra guide"
      ],
      "metadata": {
        "id": "naf5qIkrS1vU"
      }
    },
    {
      "cell_type": "markdown",
      "source": [
        "## Scalars in Pytorch"
      ],
      "metadata": {
        "id": "tWSesqpuTJ5C"
      }
    },
    {
      "cell_type": "code",
      "source": [
        "import torch\n",
        "\n",
        "x_pt = torch.tensor(25, dtype=torch.float16)\n",
        "x_pt.shape"
      ],
      "metadata": {
        "id": "LenqkeQrS8jP",
        "outputId": "308dee9a-fc57-4d28-e1ac-615ba0dc1b70",
        "colab": {
          "base_uri": "https://localhost:8080/"
        }
      },
      "execution_count": 5,
      "outputs": [
        {
          "output_type": "execute_result",
          "data": {
            "text/plain": [
              "torch.Size([])"
            ]
          },
          "metadata": {},
          "execution_count": 5
        }
      ]
    },
    {
      "cell_type": "markdown",
      "source": [
        "## Scalar in tensorflow"
      ],
      "metadata": {
        "id": "TBUi8B-KVpTI"
      }
    },
    {
      "cell_type": "code",
      "source": [
        "import tensorflow as tf"
      ],
      "metadata": {
        "id": "Rlok8h6PVxEL"
      },
      "execution_count": 6,
      "outputs": []
    },
    {
      "cell_type": "code",
      "source": [
        "x_tf = tf.Variable(25, dtype=tf.float16)"
      ],
      "metadata": {
        "id": "WPP57Zl1V8ld"
      },
      "execution_count": 7,
      "outputs": []
    },
    {
      "cell_type": "code",
      "source": [
        "x_tf.shape"
      ],
      "metadata": {
        "id": "Su9nksJEWE9o",
        "outputId": "7d156ba7-8777-4cb0-c499-8e889771d744",
        "colab": {
          "base_uri": "https://localhost:8080/"
        }
      },
      "execution_count": 8,
      "outputs": [
        {
          "output_type": "execute_result",
          "data": {
            "text/plain": [
              "TensorShape([])"
            ]
          },
          "metadata": {},
          "execution_count": 8
        }
      ]
    },
    {
      "cell_type": "code",
      "source": [
        "y_tf = tf.Variable(3, dtype=tf.float16)"
      ],
      "metadata": {
        "id": "6ylR7raGWJtj"
      },
      "execution_count": 9,
      "outputs": []
    },
    {
      "cell_type": "code",
      "source": [
        "x_tf + y_tf"
      ],
      "metadata": {
        "id": "OtuQKkayWVRS",
        "outputId": "890c612d-f7ef-43b6-82b8-e06cc12f094b",
        "colab": {
          "base_uri": "https://localhost:8080/"
        }
      },
      "execution_count": 10,
      "outputs": [
        {
          "output_type": "execute_result",
          "data": {
            "text/plain": [
              "<tf.Tensor: shape=(), dtype=float16, numpy=28.0>"
            ]
          },
          "metadata": {},
          "execution_count": 10
        }
      ]
    },
    {
      "cell_type": "code",
      "source": [
        "tf_sum = tf.add(x_tf, y_tf)\n",
        "tf_sum"
      ],
      "metadata": {
        "id": "qGMHaQa9WYyR",
        "outputId": "858d2184-fe14-440e-d96b-61f33e2e2a42",
        "colab": {
          "base_uri": "https://localhost:8080/"
        }
      },
      "execution_count": 15,
      "outputs": [
        {
          "output_type": "execute_result",
          "data": {
            "text/plain": [
              "<tf.Tensor: shape=(), dtype=float16, numpy=28.0>"
            ]
          },
          "metadata": {},
          "execution_count": 15
        }
      ]
    },
    {
      "cell_type": "code",
      "source": [
        "tf_sum.numpy()"
      ],
      "metadata": {
        "id": "uN_ioel0Wtw8",
        "outputId": "dd0b8686-0845-4c67-925e-3201c9fe1325",
        "colab": {
          "base_uri": "https://localhost:8080/"
        }
      },
      "execution_count": 17,
      "outputs": [
        {
          "output_type": "execute_result",
          "data": {
            "text/plain": [
              "28.0"
            ]
          },
          "metadata": {},
          "execution_count": 17
        }
      ]
    },
    {
      "cell_type": "markdown",
      "source": [
        "## Vector and Vector Transpositions\n",
        "\n",
        "Its one dimensional arrayu of number. All elements arranged in order(like list). Individual element of vector is scalar itself\n",
        "\n",
        "[x1, x2] = [12 4] - represents a location on 2D line system\n",
        "\n",
        "3 length vector represents location in 3D space\n",
        "\n",
        "[x1, x2, x3] = [12 4 5]"
      ],
      "metadata": {
        "id": "MAlMxhlfXMxI"
      }
    }
  ]
}